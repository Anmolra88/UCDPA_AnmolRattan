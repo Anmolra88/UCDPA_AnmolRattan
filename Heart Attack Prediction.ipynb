{
 "cells": [
  {
   "cell_type": "code",
   "execution_count": 1,
   "id": "ba2ad962",
   "metadata": {},
   "outputs": [],
   "source": [
    "import numpy as np # linear algebra\n",
    "import pandas as pd # data processing, CSV file I/O (e.g. pd.read_csv)\n",
    "import matplotlib.pyplot as plt # data visualization\n",
    "import seaborn as sns # data visualization"
   ]
  },
  {
   "cell_type": "code",
   "execution_count": 6,
   "id": "13745540",
   "metadata": {},
   "outputs": [
    {
     "name": "stdout",
     "output_type": "stream",
     "text": [
      "C:/Users/anmol/UCDPA_AnmolRattan/UCDPA_AnmolRattan\\.gitattributes\n",
      "C:/Users/anmol/UCDPA_AnmolRattan/UCDPA_AnmolRattan\\.gitignore\n",
      "C:/Users/anmol/UCDPA_AnmolRattan/UCDPA_AnmolRattan\\Heart Attack Prediction.ipynb\n",
      "C:/Users/anmol/UCDPA_AnmolRattan/UCDPA_AnmolRattan\\heart.csv\n",
      "C:/Users/anmol/UCDPA_AnmolRattan/UCDPA_AnmolRattan\\o2Saturation.csv\n",
      "C:/Users/anmol/UCDPA_AnmolRattan/UCDPA_AnmolRattan\\.git\\COMMIT_EDITMSG\n",
      "C:/Users/anmol/UCDPA_AnmolRattan/UCDPA_AnmolRattan\\.git\\config\n",
      "C:/Users/anmol/UCDPA_AnmolRattan/UCDPA_AnmolRattan\\.git\\description\n",
      "C:/Users/anmol/UCDPA_AnmolRattan/UCDPA_AnmolRattan\\.git\\FETCH_HEAD\n",
      "C:/Users/anmol/UCDPA_AnmolRattan/UCDPA_AnmolRattan\\.git\\HEAD\n",
      "C:/Users/anmol/UCDPA_AnmolRattan/UCDPA_AnmolRattan\\.git\\index\n",
      "C:/Users/anmol/UCDPA_AnmolRattan/UCDPA_AnmolRattan\\.git\\packed-refs\n",
      "C:/Users/anmol/UCDPA_AnmolRattan/UCDPA_AnmolRattan\\.git\\hooks\\applypatch-msg.sample\n",
      "C:/Users/anmol/UCDPA_AnmolRattan/UCDPA_AnmolRattan\\.git\\hooks\\commit-msg.sample\n",
      "C:/Users/anmol/UCDPA_AnmolRattan/UCDPA_AnmolRattan\\.git\\hooks\\fsmonitor-watchman.sample\n",
      "C:/Users/anmol/UCDPA_AnmolRattan/UCDPA_AnmolRattan\\.git\\hooks\\post-update.sample\n",
      "C:/Users/anmol/UCDPA_AnmolRattan/UCDPA_AnmolRattan\\.git\\hooks\\pre-applypatch.sample\n",
      "C:/Users/anmol/UCDPA_AnmolRattan/UCDPA_AnmolRattan\\.git\\hooks\\pre-commit.sample\n",
      "C:/Users/anmol/UCDPA_AnmolRattan/UCDPA_AnmolRattan\\.git\\hooks\\pre-merge-commit.sample\n",
      "C:/Users/anmol/UCDPA_AnmolRattan/UCDPA_AnmolRattan\\.git\\hooks\\pre-push.sample\n",
      "C:/Users/anmol/UCDPA_AnmolRattan/UCDPA_AnmolRattan\\.git\\hooks\\pre-rebase.sample\n",
      "C:/Users/anmol/UCDPA_AnmolRattan/UCDPA_AnmolRattan\\.git\\hooks\\pre-receive.sample\n",
      "C:/Users/anmol/UCDPA_AnmolRattan/UCDPA_AnmolRattan\\.git\\hooks\\prepare-commit-msg.sample\n",
      "C:/Users/anmol/UCDPA_AnmolRattan/UCDPA_AnmolRattan\\.git\\hooks\\push-to-checkout.sample\n",
      "C:/Users/anmol/UCDPA_AnmolRattan/UCDPA_AnmolRattan\\.git\\hooks\\update.sample\n",
      "C:/Users/anmol/UCDPA_AnmolRattan/UCDPA_AnmolRattan\\.git\\info\\exclude\n",
      "C:/Users/anmol/UCDPA_AnmolRattan/UCDPA_AnmolRattan\\.git\\logs\\HEAD\n",
      "C:/Users/anmol/UCDPA_AnmolRattan/UCDPA_AnmolRattan\\.git\\logs\\refs\\heads\\main\n",
      "C:/Users/anmol/UCDPA_AnmolRattan/UCDPA_AnmolRattan\\.git\\logs\\refs\\remotes\\origin\\HEAD\n",
      "C:/Users/anmol/UCDPA_AnmolRattan/UCDPA_AnmolRattan\\.git\\logs\\refs\\remotes\\origin\\main\n",
      "C:/Users/anmol/UCDPA_AnmolRattan/UCDPA_AnmolRattan\\.git\\objects\\3e\\4c9937358d38c99e2641bd309494598d657c50\n",
      "C:/Users/anmol/UCDPA_AnmolRattan/UCDPA_AnmolRattan\\.git\\objects\\54\\70b6b7b77b8ac6c149d49981a52e4aae1dee50\n",
      "C:/Users/anmol/UCDPA_AnmolRattan/UCDPA_AnmolRattan\\.git\\objects\\c2\\11c934aa9499f111071a20a6d71457c2575ad1\n",
      "C:/Users/anmol/UCDPA_AnmolRattan/UCDPA_AnmolRattan\\.git\\objects\\db\\67356dbea6e6a581a222fe1b87cf2e868473bf\n",
      "C:/Users/anmol/UCDPA_AnmolRattan/UCDPA_AnmolRattan\\.git\\objects\\e5\\8208173ca8fba0b38faff315996bbe05ccef96\n",
      "C:/Users/anmol/UCDPA_AnmolRattan/UCDPA_AnmolRattan\\.git\\objects\\pack\\pack-538f30e9716e6367d987cd3af9c9c0e91b422dd8.idx\n",
      "C:/Users/anmol/UCDPA_AnmolRattan/UCDPA_AnmolRattan\\.git\\objects\\pack\\pack-538f30e9716e6367d987cd3af9c9c0e91b422dd8.pack\n",
      "C:/Users/anmol/UCDPA_AnmolRattan/UCDPA_AnmolRattan\\.git\\refs\\heads\\main\n",
      "C:/Users/anmol/UCDPA_AnmolRattan/UCDPA_AnmolRattan\\.git\\refs\\remotes\\origin\\HEAD\n",
      "C:/Users/anmol/UCDPA_AnmolRattan/UCDPA_AnmolRattan\\.git\\refs\\remotes\\origin\\main\n",
      "C:/Users/anmol/UCDPA_AnmolRattan/UCDPA_AnmolRattan\\.ipynb_checkpoints\\Heart Attack Prediction-checkpoint.ipynb\n"
     ]
    }
   ],
   "source": [
    "import os\n",
    "for dirname, _, filenames in os.walk('C:/Users/anmol/UCDPA_AnmolRattan/UCDPA_AnmolRattan'):\n",
    "    for filename in filenames:\n",
    "        print(os.path.join(dirname, filename))"
   ]
  },
  {
   "cell_type": "code",
   "execution_count": 7,
   "id": "2dc0d0b5",
   "metadata": {},
   "outputs": [],
   "source": [
    "import math\n",
    "from sklearn.model_selection import train_test_split\n",
    "from sklearn.preprocessing import StandardScaler \n",
    "from sklearn.svm import SVC\n",
    "from sklearn.linear_model import LogisticRegression\n",
    "from sklearn.metrics import accuracy_score\n",
    "from sklearn.metrics import confusion_matrix"
   ]
  },
  {
   "cell_type": "code",
   "execution_count": 8,
   "id": "7b0a1b78",
   "metadata": {},
   "outputs": [],
   "source": [
    "df = pd.read_csv(\"C:/Users/anmol/UCDPA_Anmol Rattan/Heart Attack Prediction/heart.csv\")"
   ]
  },
  {
   "cell_type": "code",
   "execution_count": 9,
   "id": "ca811964",
   "metadata": {},
   "outputs": [
    {
     "data": {
      "text/html": [
       "<div>\n",
       "<style scoped>\n",
       "    .dataframe tbody tr th:only-of-type {\n",
       "        vertical-align: middle;\n",
       "    }\n",
       "\n",
       "    .dataframe tbody tr th {\n",
       "        vertical-align: top;\n",
       "    }\n",
       "\n",
       "    .dataframe thead th {\n",
       "        text-align: right;\n",
       "    }\n",
       "</style>\n",
       "<table border=\"1\" class=\"dataframe\">\n",
       "  <thead>\n",
       "    <tr style=\"text-align: right;\">\n",
       "      <th></th>\n",
       "      <th>age</th>\n",
       "      <th>sex</th>\n",
       "      <th>cp</th>\n",
       "      <th>trtbps</th>\n",
       "      <th>chol</th>\n",
       "      <th>fbs</th>\n",
       "      <th>restecg</th>\n",
       "      <th>thalachh</th>\n",
       "      <th>exng</th>\n",
       "      <th>oldpeak</th>\n",
       "      <th>slp</th>\n",
       "      <th>caa</th>\n",
       "      <th>thall</th>\n",
       "      <th>output</th>\n",
       "    </tr>\n",
       "  </thead>\n",
       "  <tbody>\n",
       "    <tr>\n",
       "      <th>0</th>\n",
       "      <td>63</td>\n",
       "      <td>1</td>\n",
       "      <td>3</td>\n",
       "      <td>145</td>\n",
       "      <td>233</td>\n",
       "      <td>1</td>\n",
       "      <td>0</td>\n",
       "      <td>150</td>\n",
       "      <td>0</td>\n",
       "      <td>2.3</td>\n",
       "      <td>0</td>\n",
       "      <td>0</td>\n",
       "      <td>1</td>\n",
       "      <td>1</td>\n",
       "    </tr>\n",
       "    <tr>\n",
       "      <th>1</th>\n",
       "      <td>37</td>\n",
       "      <td>1</td>\n",
       "      <td>2</td>\n",
       "      <td>130</td>\n",
       "      <td>250</td>\n",
       "      <td>0</td>\n",
       "      <td>1</td>\n",
       "      <td>187</td>\n",
       "      <td>0</td>\n",
       "      <td>3.5</td>\n",
       "      <td>0</td>\n",
       "      <td>0</td>\n",
       "      <td>2</td>\n",
       "      <td>1</td>\n",
       "    </tr>\n",
       "    <tr>\n",
       "      <th>2</th>\n",
       "      <td>41</td>\n",
       "      <td>0</td>\n",
       "      <td>1</td>\n",
       "      <td>130</td>\n",
       "      <td>204</td>\n",
       "      <td>0</td>\n",
       "      <td>0</td>\n",
       "      <td>172</td>\n",
       "      <td>0</td>\n",
       "      <td>1.4</td>\n",
       "      <td>2</td>\n",
       "      <td>0</td>\n",
       "      <td>2</td>\n",
       "      <td>1</td>\n",
       "    </tr>\n",
       "    <tr>\n",
       "      <th>3</th>\n",
       "      <td>56</td>\n",
       "      <td>1</td>\n",
       "      <td>1</td>\n",
       "      <td>120</td>\n",
       "      <td>236</td>\n",
       "      <td>0</td>\n",
       "      <td>1</td>\n",
       "      <td>178</td>\n",
       "      <td>0</td>\n",
       "      <td>0.8</td>\n",
       "      <td>2</td>\n",
       "      <td>0</td>\n",
       "      <td>2</td>\n",
       "      <td>1</td>\n",
       "    </tr>\n",
       "    <tr>\n",
       "      <th>4</th>\n",
       "      <td>57</td>\n",
       "      <td>0</td>\n",
       "      <td>0</td>\n",
       "      <td>120</td>\n",
       "      <td>354</td>\n",
       "      <td>0</td>\n",
       "      <td>1</td>\n",
       "      <td>163</td>\n",
       "      <td>1</td>\n",
       "      <td>0.6</td>\n",
       "      <td>2</td>\n",
       "      <td>0</td>\n",
       "      <td>2</td>\n",
       "      <td>1</td>\n",
       "    </tr>\n",
       "  </tbody>\n",
       "</table>\n",
       "</div>"
      ],
      "text/plain": [
       "   age  sex  cp  trtbps  chol  fbs  restecg  thalachh  exng  oldpeak  slp  \\\n",
       "0   63    1   3     145   233    1        0       150     0      2.3    0   \n",
       "1   37    1   2     130   250    0        1       187     0      3.5    0   \n",
       "2   41    0   1     130   204    0        0       172     0      1.4    2   \n",
       "3   56    1   1     120   236    0        1       178     0      0.8    2   \n",
       "4   57    0   0     120   354    0        1       163     1      0.6    2   \n",
       "\n",
       "   caa  thall  output  \n",
       "0    0      1       1  \n",
       "1    0      2       1  \n",
       "2    0      2       1  \n",
       "3    0      2       1  \n",
       "4    0      2       1  "
      ]
     },
     "execution_count": 9,
     "metadata": {},
     "output_type": "execute_result"
    }
   ],
   "source": [
    "df.head()"
   ]
  },
  {
   "cell_type": "code",
   "execution_count": 10,
   "id": "d9c620b5",
   "metadata": {},
   "outputs": [
    {
     "name": "stdout",
     "output_type": "stream",
     "text": [
      "<class 'pandas.core.frame.DataFrame'>\n",
      "RangeIndex: 303 entries, 0 to 302\n",
      "Data columns (total 14 columns):\n",
      " #   Column    Non-Null Count  Dtype  \n",
      "---  ------    --------------  -----  \n",
      " 0   age       303 non-null    int64  \n",
      " 1   sex       303 non-null    int64  \n",
      " 2   cp        303 non-null    int64  \n",
      " 3   trtbps    303 non-null    int64  \n",
      " 4   chol      303 non-null    int64  \n",
      " 5   fbs       303 non-null    int64  \n",
      " 6   restecg   303 non-null    int64  \n",
      " 7   thalachh  303 non-null    int64  \n",
      " 8   exng      303 non-null    int64  \n",
      " 9   oldpeak   303 non-null    float64\n",
      " 10  slp       303 non-null    int64  \n",
      " 11  caa       303 non-null    int64  \n",
      " 12  thall     303 non-null    int64  \n",
      " 13  output    303 non-null    int64  \n",
      "dtypes: float64(1), int64(13)\n",
      "memory usage: 33.3 KB\n"
     ]
    },
    {
     "data": {
      "text/plain": [
       "None"
      ]
     },
     "metadata": {},
     "output_type": "display_data"
    }
   ],
   "source": [
    "display(df.info())"
   ]
  },
  {
   "cell_type": "code",
   "execution_count": 11,
   "id": "81d739a1",
   "metadata": {},
   "outputs": [
    {
     "data": {
      "text/plain": [
       "Index(['age', 'sex', 'cp', 'trtbps', 'chol', 'fbs', 'restecg', 'thalachh',\n",
       "       'exng', 'oldpeak', 'slp', 'caa', 'thall', 'output'],\n",
       "      dtype='object')"
      ]
     },
     "metadata": {},
     "output_type": "display_data"
    }
   ],
   "source": [
    "display(df.columns)"
   ]
  },
  {
   "cell_type": "code",
   "execution_count": 12,
   "id": "03e268b2",
   "metadata": {},
   "outputs": [
    {
     "data": {
      "text/plain": [
       "54.366336633663366"
      ]
     },
     "execution_count": 12,
     "metadata": {},
     "output_type": "execute_result"
    }
   ],
   "source": [
    "df[\"age\"].mean()"
   ]
  },
  {
   "cell_type": "code",
   "execution_count": 13,
   "id": "e1cbfeb6",
   "metadata": {},
   "outputs": [
    {
     "data": {
      "text/plain": [
       "age         0\n",
       "sex         0\n",
       "cp          0\n",
       "trtbps      0\n",
       "chol        0\n",
       "fbs         0\n",
       "restecg     0\n",
       "thalachh    0\n",
       "exng        0\n",
       "oldpeak     0\n",
       "slp         0\n",
       "caa         0\n",
       "thall       0\n",
       "output      0\n",
       "dtype: int64"
      ]
     },
     "execution_count": 13,
     "metadata": {},
     "output_type": "execute_result"
    }
   ],
   "source": [
    "#missing value\n",
    "df.isnull().sum()"
   ]
  },
  {
   "cell_type": "code",
   "execution_count": 14,
   "id": "292ea056",
   "metadata": {},
   "outputs": [
    {
     "data": {
      "image/png": "[encoded data removed]",
      "text/plain": [
       "<Figure size 640x480 with 1 Axes>"
      ]
     },
     "metadata": {},
     "output_type": "display_data"
    }
   ],
   "source": [
    "# Fixing random state for reproducibility\n",
    "np.random.seed(19680801)\n",
    "\n",
    "\n",
    "x = df['thalachh']\n",
    "y = df['age']\n",
    "s = np.random.rand(*x.shape) * 150 + 50\n",
    "\n",
    "plt.scatter(x, y, s, c=\"r\", alpha=0.8, marker=r'.',\n",
    "            label=\"Heart Rate\")\n",
    "plt.xlabel(\"Maximum heart rate achieved\")\n",
    "plt.ylabel(\"AGE\")\n",
    "plt.legend(loc='lower left')\n",
    "plt.show()"
   ]
  },
  {
   "cell_type": "code",
   "execution_count": null,
   "id": "a6601ba6",
   "metadata": {},
   "outputs": [],
   "source": []
  }
 ],
 "metadata": {
  "kernelspec": {
   "display_name": "Python 3 (ipykernel)",
   "language": "python",
   "name": "python3"
  },
  "language_info": {
   "codemirror_mode": {
    "name": "ipython",
    "version": 3
   },
   "file_extension": ".py",
   "mimetype": "text/x-python",
   "name": "python",
   "nbconvert_exporter": "python",
   "pygments_lexer": "ipython3",
   "version": "3.9.13"
  }
 },
 "nbformat": 4,
 "nbformat_minor": 5
}
